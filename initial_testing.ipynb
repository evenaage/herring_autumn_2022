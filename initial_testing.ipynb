{
 "cells": [
  {
   "cell_type": "code",
   "execution_count": 15,
   "metadata": {},
   "outputs": [],
   "source": [
    "import numpy as np\n",
    "from torch import nn\n",
    "import torch\n",
    "import netCDF4 as nc\n",
    "import pandas as pd"
   ]
  },
  {
   "cell_type": "code",
   "execution_count": 50,
   "metadata": {},
   "outputs": [],
   "source": [
    "N = 1\n",
    "\n",
    "class NeuralNetwork(nn.Module):\n",
    "    def __init__(self):\n",
    "        super().__init__()\n",
    "        self.linear_relu_stack = nn.Sequential(\n",
    "            nn.Conv2d(N, 2*N, 3,padding=1),\n",
    "            nn.Conv2d(2*N, 4*N, 3,padding=1),\n",
    "            nn.Conv2d(4*N, 2*N, 3, padding=1),\n",
    "            nn.Conv2d(2*N, N, 3, padding=1)\n",
    "        )\n",
    "\n",
    "    def forward(self, x):\n",
    "        print(x.shape)\n",
    "        #x = torch.log(x)\n",
    "        logits = self.linear_relu_stack(x)\n",
    "        #logits = torch.exp(logits)\n",
    "        return logits"
   ]
  },
  {
   "cell_type": "code",
   "execution_count": 51,
   "metadata": {},
   "outputs": [
    {
     "name": "stdout",
     "output_type": "stream",
     "text": [
      "NeuralNetwork(\n",
      "  (linear_relu_stack): Sequential(\n",
      "    (0): Conv2d(1, 2, kernel_size=(3, 3), stride=(1, 1), padding=(1, 1))\n",
      "    (1): Conv2d(2, 4, kernel_size=(3, 3), stride=(1, 1), padding=(1, 1))\n",
      "  )\n",
      ")\n"
     ]
    }
   ],
   "source": [
    "model = NeuralNetwork()\n",
    "print(model)"
   ]
  },
  {
   "cell_type": "code",
   "execution_count": 20,
   "metadata": {},
   "outputs": [],
   "source": [
    "ds = nc.Dataset('herring_autumn_2022\\\\nor4km_data\\\\samples_2020.01.01_nonoverlap.nc')\n"
   ]
  },
  {
   "cell_type": "code",
   "execution_count": 9,
   "metadata": {},
   "outputs": [],
   "source": [
    "loss_fn = nn.MSELoss()\n",
    "optimizer = torch.optim.Adam(model.parameters(), lr = 1e-3)"
   ]
  },
  {
   "cell_type": "code",
   "execution_count": 16,
   "metadata": {},
   "outputs": [],
   "source": [
    "def train(dataloader, model, loss_fn, optimizer):\n",
    "    size = len(dataloader) #dataloader is [[X_1, y_1],[X_2, y_2], ..., [X_n, y_n]]\n",
    "    model.train() #puts model in training mode\n",
    "    for batch, (X,y) in enumerate(dataloader): #X is input data, y is target data\n",
    "\n",
    "        #compute prediction\n",
    "        pred = model(X)\n",
    "        loss = loss_fn(pred, y)\n",
    "\n",
    "        #backprop\n",
    "        optimizer.zero_grad()\n",
    "        loss.backward()\n",
    "        optimizer.step()\n",
    "\n",
    "        if batch % 100 == 0:\n",
    "            loss, current = loss.item(), batch *len(X)\n",
    "            print(f'loss: {loss:>7f} [ {current:>5d}/{size:>5d}]')\n",
    "\n",
    "        "
   ]
  },
  {
   "cell_type": "code",
   "execution_count": 48,
   "metadata": {},
   "outputs": [
    {
     "name": "stdout",
     "output_type": "stream",
     "text": [
      "(1, 620, 941)\n",
      "<class 'numpy.float32'>\n"
     ]
    }
   ],
   "source": [
    "epochs = 5\n",
    "x = np.zeros((N,620,941),dtype=np.float32)\n",
    "y = np.zeros((1,620,941),dtype=np.float32)\n",
    "x[0,:,:] = ds.variables['temperature'][12,0:1,:,:]\n",
    "print(x.shape)\n",
    "print(type(x[0,0,0]))\n",
    "dataloader = [[torch.tensor(x),torch.tensor(y)]]"
   ]
  },
  {
   "cell_type": "code",
   "execution_count": 52,
   "metadata": {},
   "outputs": [
    {
     "name": "stdout",
     "output_type": "stream",
     "text": [
      "Epoch 1\n",
      "-------------------------\n",
      "torch.Size([1, 620, 941])\n"
     ]
    },
    {
     "name": "stderr",
     "output_type": "stream",
     "text": [
      "c:\\Users\\eclip\\Documents\\sild_høst_2022\\herring_autumn_2022\\.venv\\lib\\site-packages\\torch\\nn\\modules\\loss.py:530: UserWarning: Using a target size (torch.Size([1, 620, 941])) that is different to the input size (torch.Size([4, 620, 941])). This will likely lead to incorrect results due to broadcasting. Please ensure they have the same size.\n",
      "  return F.mse_loss(input, target, reduction=self.reduction)\n"
     ]
    },
    {
     "name": "stdout",
     "output_type": "stream",
     "text": [
      "loss: 1823111.125000 [     0/    1]\n",
      "Epoch 2\n",
      "-------------------------\n",
      "torch.Size([1, 620, 941])\n",
      "loss: 1823111.125000 [     0/    1]\n",
      "Epoch 3\n",
      "-------------------------\n",
      "torch.Size([1, 620, 941])\n",
      "loss: 1823111.125000 [     0/    1]\n",
      "Epoch 4\n",
      "-------------------------\n",
      "torch.Size([1, 620, 941])\n",
      "loss: 1823111.125000 [     0/    1]\n",
      "Epoch 5\n",
      "-------------------------\n",
      "torch.Size([1, 620, 941])\n",
      "loss: 1823111.125000 [     0/    1]\n",
      "Done!\n"
     ]
    }
   ],
   "source": [
    "for t in range(epochs):\n",
    "    print(f'Epoch {t+1}\\n-------------------------')\n",
    "    train(dataloader, model, loss_fn, optimizer)\n",
    "print('Done!')"
   ]
  },
  {
   "cell_type": "code",
   "execution_count": null,
   "metadata": {},
   "outputs": [],
   "source": []
  }
 ],
 "metadata": {
  "kernelspec": {
   "display_name": "Python 3.9.13 ('.venv': venv)",
   "language": "python",
   "name": "python3"
  },
  "language_info": {
   "codemirror_mode": {
    "name": "ipython",
    "version": 3
   },
   "file_extension": ".py",
   "mimetype": "text/x-python",
   "name": "python",
   "nbconvert_exporter": "python",
   "pygments_lexer": "ipython3",
   "version": "3.9.13"
  },
  "orig_nbformat": 4,
  "vscode": {
   "interpreter": {
    "hash": "55fa175661ac50cec9b328b8e46112c793f83291f6b6adba11d4b6fbc23aaf48"
   }
  }
 },
 "nbformat": 4,
 "nbformat_minor": 2
}
