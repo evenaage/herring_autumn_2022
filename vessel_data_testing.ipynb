{
 "cells": [
  {
   "cell_type": "code",
   "execution_count": 2,
   "metadata": {},
   "outputs": [],
   "source": [
    "import pandas as pd\n",
    "import numpy as np"
   ]
  },
  {
   "cell_type": "code",
   "execution_count": 15,
   "metadata": {},
   "outputs": [
    {
     "name": "stderr",
     "output_type": "stream",
     "text": [
      "C:\\Users\\eclip\\AppData\\Local\\Temp\\ipykernel_6368\\3771626363.py:1: DtypeWarning: Columns (9,11,12) have mixed types. Specify dtype option on import or set low_memory=False.\n",
      "  df = pd.read_csv('vessel_data\\VMS_2020.csv', delimiter=';', on_bad_lines='skip')\n"
     ]
    },
    {
     "name": "stdout",
     "output_type": "stream",
     "text": [
      "Index(['Melding ID', 'Meldingstype (kode)', 'Meldingstype', 'Tidspunkt (UTC)',\n",
      "       'Breddegrad', 'Lengdegrad', 'Kurs', 'Fart', 'Radiokallesignal',\n",
      "       'Registreringsmerke', 'Fartøynavn', 'Fartøykommune', 'Fartøyfylke',\n",
      "       'Største lengde', 'Motorkraft', 'Bruttotonnasje 1969',\n",
      "       'Bruttotonnasje annen', 'Fartøytype (kode)', 'Fartøytype'],\n",
      "      dtype='object')\n"
     ]
    }
   ],
   "source": [
    "df = pd.read_csv('vessel_data\\VMS_2020.csv', delimiter=';', on_bad_lines='skip')\n",
    "print(df.columns)"
   ]
  },
  {
   "cell_type": "code",
   "execution_count": 17,
   "metadata": {},
   "outputs": [
    {
     "ename": "AttributeError",
     "evalue": "'DataFrame' object has no attribute 'iterows'",
     "output_type": "error",
     "traceback": [
      "\u001b[1;31m---------------------------------------------------------------------------\u001b[0m",
      "\u001b[1;31mAttributeError\u001b[0m                            Traceback (most recent call last)",
      "Cell \u001b[1;32mIn [17], line 20\u001b[0m\n\u001b[0;32m     15\u001b[0m     \u001b[39mreturn\u001b[39;00m tracks\n\u001b[0;32m     18\u001b[0m data \u001b[39m=\u001b[39m get_vessel_track_data(df,\u001b[39m'\u001b[39m\u001b[39mN 0220Ø\u001b[39m\u001b[39m'\u001b[39m,  \u001b[39m1\u001b[39m, \u001b[39m2\u001b[39m)\n\u001b[1;32m---> 20\u001b[0m \u001b[39mfor\u001b[39;00m idx, row \u001b[39min\u001b[39;00m data\u001b[39m.\u001b[39;49miterows():\n\u001b[0;32m     21\u001b[0m     \u001b[39mprint\u001b[39m(data)\n",
      "File \u001b[1;32mc:\\Users\\eclip\\Documents\\sild_høst_2022\\herring_autumn_2022\\.venv\\lib\\site-packages\\pandas\\core\\generic.py:5575\u001b[0m, in \u001b[0;36mNDFrame.__getattr__\u001b[1;34m(self, name)\u001b[0m\n\u001b[0;32m   5568\u001b[0m \u001b[39mif\u001b[39;00m (\n\u001b[0;32m   5569\u001b[0m     name \u001b[39mnot\u001b[39;00m \u001b[39min\u001b[39;00m \u001b[39mself\u001b[39m\u001b[39m.\u001b[39m_internal_names_set\n\u001b[0;32m   5570\u001b[0m     \u001b[39mand\u001b[39;00m name \u001b[39mnot\u001b[39;00m \u001b[39min\u001b[39;00m \u001b[39mself\u001b[39m\u001b[39m.\u001b[39m_metadata\n\u001b[0;32m   5571\u001b[0m     \u001b[39mand\u001b[39;00m name \u001b[39mnot\u001b[39;00m \u001b[39min\u001b[39;00m \u001b[39mself\u001b[39m\u001b[39m.\u001b[39m_accessors\n\u001b[0;32m   5572\u001b[0m     \u001b[39mand\u001b[39;00m \u001b[39mself\u001b[39m\u001b[39m.\u001b[39m_info_axis\u001b[39m.\u001b[39m_can_hold_identifiers_and_holds_name(name)\n\u001b[0;32m   5573\u001b[0m ):\n\u001b[0;32m   5574\u001b[0m     \u001b[39mreturn\u001b[39;00m \u001b[39mself\u001b[39m[name]\n\u001b[1;32m-> 5575\u001b[0m \u001b[39mreturn\u001b[39;00m \u001b[39mobject\u001b[39;49m\u001b[39m.\u001b[39;49m\u001b[39m__getattribute__\u001b[39;49m(\u001b[39mself\u001b[39;49m, name)\n",
      "\u001b[1;31mAttributeError\u001b[0m: 'DataFrame' object has no attribute 'iterows'"
     ]
    }
   ],
   "source": [
    "def get_vessel_track_data(df, reg, måned, dag):\n",
    "    \n",
    "    tracks = df[df['Registreringsmerke'] == reg]\n",
    "    tidspunkter = tracks['Tidspunkt (UTC)']\n",
    "    tracks_correct_day = []\n",
    "    #for tid in tidspunkter:\n",
    "    tracks_correct_day =[int(tid.split()[0].split('.')[0]) == dag \\\n",
    "        and int(tid.split(' ')[0].split('.')[1]) == måned for tid in tidspunkter]\n",
    "    #print(len(tracks_correct_day))\n",
    "    tracks = tracks.iloc[tracks_correct_day]\n",
    "    tidspunkter = tracks['Tidspunkt (UTC)']\n",
    "    tracks['month'] = [int(tid.split(' ')[0].split('.')[1]) for tid in tidspunkter]\n",
    "    tracks['day'] = [int(tid.split(' ')[0].split('.')[0]) for tid in tidspunkter]\n",
    "    tracks['hour'] = [int(tid.split()[1].split(':')[0]) for tid in tidspunkter]\n",
    "    return tracks\n",
    "\n",
    "\n",
    "data = get_vessel_track_data(df,'N 0220Ø',  1, 2)\n",
    "\n",
    "for idx, row in data.iterrows():\n",
    "    print(data)"
   ]
  },
  {
   "cell_type": "code",
   "execution_count": null,
   "metadata": {},
   "outputs": [],
   "source": []
  }
 ],
 "metadata": {
  "kernelspec": {
   "display_name": "Python 3.9.13 ('.venv': venv)",
   "language": "python",
   "name": "python3"
  },
  "language_info": {
   "codemirror_mode": {
    "name": "ipython",
    "version": 3
   },
   "file_extension": ".py",
   "mimetype": "text/x-python",
   "name": "python",
   "nbconvert_exporter": "python",
   "pygments_lexer": "ipython3",
   "version": "3.9.13"
  },
  "orig_nbformat": 4,
  "vscode": {
   "interpreter": {
    "hash": "55fa175661ac50cec9b328b8e46112c793f83291f6b6adba11d4b6fbc23aaf48"
   }
  }
 },
 "nbformat": 4,
 "nbformat_minor": 2
}
